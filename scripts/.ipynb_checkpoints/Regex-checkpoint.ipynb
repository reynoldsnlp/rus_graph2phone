{
 "cells": [
  {
   "cell_type": "code",
   "execution_count": 7,
   "metadata": {},
   "outputs": [],
   "source": [
    "import re\n",
    "import pandas as pd"
   ]
  },
  {
   "cell_type": "code",
   "execution_count": 35,
   "metadata": {},
   "outputs": [
    {
     "name": "stdout",
     "output_type": "stream",
     "text": [
      "         Level 0        Level 1        Level 2  Level 3  Level 4  Level 5  \\\n",
      "0        иска́ть        иска́т'        иска́т'      NaN      NaN      NaN   \n",
      "1         тю́бик       т'у́б'ик       т'у́б'ик      NaN      NaN      NaN   \n",
      "2          ма́ть          ма́т'          ма́т'      NaN      NaN      NaN   \n",
      "3        твёрдый      тв'о́рдый      тв'о́рдый      NaN      NaN      NaN   \n",
      "4          име́л         им'э́л         им'э́л      NaN      NaN      NaN   \n",
      "5           се́л          с'э́л          с'э́л      NaN      NaN      NaN   \n",
      "6          но́ги         но́г'и         но́г'и      NaN      NaN      NaN   \n",
      "7         пи́шут        п'и́шут        п'и́шут      NaN      NaN      NaN   \n",
      "8          пя́ть         п'а́т'         п'а́т'      NaN      NaN      NaN   \n",
      "9          ся́ду         с'а́ду         с'а́ду      NaN      NaN      NaN   \n",
      "10       ступлю́       ступл'у́       ступл'у́      NaN      NaN      NaN   \n",
      "11       сту́пит       сту́п'ит       сту́п'ит      NaN      NaN      NaN   \n",
      "12          ле́т          л'э́т          л'э́т      NaN      NaN      NaN   \n",
      "13         зима́         з'има́         з'има́      NaN      NaN      NaN   \n",
      "14         изю́м         из'у́м         из'у́м      NaN      NaN      NaN   \n",
      "15         я́рус         йа́рус         йа́рус      NaN      NaN      NaN   \n",
      "16         све́т         св'э́т         св'э́т      NaN      NaN      NaN   \n",
      "17         ю́ный         йу́ный         йу́ный      NaN      NaN      NaN   \n",
      "18      бле́дный      бл'э́дный      бл'э́дный      NaN      NaN      NaN   \n",
      "19     включа́ть     вкл'уча́т'     вкл'уча́т'      NaN      NaN      NaN   \n",
      "20          где́          гд'э́          гд'э́      NaN      NaN      NaN   \n",
      "21      гря́зный      гр'а́зный      гр'а́зный      NaN      NaN      NaN   \n",
      "22    сле́дующий   сл'э́дуйущий  с'л'э́дуйущий      NaN      NaN      NaN   \n",
      "23         чле́н         чл'э́н         чл'э́н      NaN      NaN      NaN   \n",
      "24       жу́ткий       жу́тк'ий       жу́тк'ий      NaN      NaN      NaN   \n",
      "25    извиня́юсь  изв'ин'а́йус'  изв'ин'а́йус'      NaN      NaN      NaN   \n",
      "26          клён         кл'о́н         кл'о́н      NaN      NaN      NaN   \n",
      "27     чуде́сный     чуд'э́сный     чуд'э́сный      NaN      NaN      NaN   \n",
      "28          мо́ю          мо́йу          мо́йу      NaN      NaN      NaN   \n",
      "29         я́щик         йа́щик         йа́щик      NaN      NaN      NaN   \n",
      "..           ...            ...            ...      ...      ...      ...   \n",
      "185       нове́е       нов'э́йэ       нов'э́йэ      NaN      NaN      NaN   \n",
      "186      чита́ет       чита́йэт       чита́йэт      NaN      NaN      NaN   \n",
      "187        пло́д          пло́д          пло́д      NaN      NaN      NaN   \n",
      "188        гла́з          гла́з          гла́з      NaN      NaN      NaN   \n",
      "189         зу́б           зу́б           зу́б      NaN      NaN      NaN   \n",
      "190         но́ж           но́ж           но́ж      NaN      NaN      NaN   \n",
      "191        дру́г          дру́г          дру́г      NaN      NaN      NaN   \n",
      "192      сто́рож        сто́рож        сто́рож      NaN      NaN      NaN   \n",
      "193      отре́жь        отр'э́ж       от'р'э́ж      NaN      NaN      NaN   \n",
      "194        ся́дь         с'а́д'         с'а́д'      NaN      NaN      NaN   \n",
      "195         до́м           до́м           до́м      NaN      NaN      NaN   \n",
      "196        ста́р          ста́р          ста́р      NaN      NaN      NaN   \n",
      "197      тру́бка        тру́бка        тру́бка      NaN      NaN      NaN   \n",
      "198       ло́дка         ло́дка         ло́дка      NaN      NaN      NaN   \n",
      "199        вку́с          вку́с          вку́с      NaN      NaN      NaN   \n",
      "200     коро́бка       коро́бка       коро́бка      NaN      NaN      NaN   \n",
      "201     про́сьба       про́с'ба       про́с'ба      NaN      NaN      NaN   \n",
      "202      вокза́л        вокза́л        вокза́л      NaN      NaN      NaN   \n",
      "203  занима́ться  зан'има́т'с'а  зан'има́т'с'а      NaN      NaN      NaN   \n",
      "204      ска́зка        ска́зка        ска́зка      NaN      NaN      NaN   \n",
      "205      второ́й        второ́й        второ́й      NaN      NaN      NaN   \n",
      "206      сгоре́л       сгор'э́л       сгор'э́л      NaN      NaN      NaN   \n",
      "207         и́зб           и́зб           и́зб      NaN      NaN      NaN   \n",
      "208        ви́зг         в'и́зг         в'и́зг      NaN      NaN      NaN   \n",
      "209       до́ждь         до́жд'         до́жд'      NaN      NaN      NaN   \n",
      "210       по́езд        по́йэзд        по́йэзд      NaN      NaN      NaN   \n",
      "211      боро́зд        боро́зд        боро́зд      NaN      NaN      NaN   \n",
      "212       слу́жб         слу́жб         слу́жб      NaN      NaN      NaN   \n",
      "213      наде́жд       над'э́жд       над'э́жд      NaN      NaN      NaN   \n",
      "214         да́р           да́р           да́р      NaN      NaN      NaN   \n",
      "\n",
      "     Level 6  Level 7  Level 8  Level 9  Level 10  \n",
      "0        NaN      NaN      NaN      NaN       NaN  \n",
      "1        NaN      NaN      NaN      NaN       NaN  \n",
      "2        NaN      NaN      NaN      NaN       NaN  \n",
      "3        NaN      NaN      NaN      NaN       NaN  \n",
      "4        NaN      NaN      NaN      NaN       NaN  \n",
      "5        NaN      NaN      NaN      NaN       NaN  \n",
      "6        NaN      NaN      NaN      NaN       NaN  \n",
      "7        NaN      NaN      NaN      NaN       NaN  \n",
      "8        NaN      NaN      NaN      NaN       NaN  \n",
      "9        NaN      NaN      NaN      NaN       NaN  \n",
      "10       NaN      NaN      NaN      NaN       NaN  \n",
      "11       NaN      NaN      NaN      NaN       NaN  \n",
      "12       NaN      NaN      NaN      NaN       NaN  \n",
      "13       NaN      NaN      NaN      NaN       NaN  \n",
      "14       NaN      NaN      NaN      NaN       NaN  \n",
      "15       NaN      NaN      NaN      NaN       NaN  \n",
      "16       NaN      NaN      NaN      NaN       NaN  \n",
      "17       NaN      NaN      NaN      NaN       NaN  \n",
      "18       NaN      NaN      NaN      NaN       NaN  \n",
      "19       NaN      NaN      NaN      NaN       NaN  \n",
      "20       NaN      NaN      NaN      NaN       NaN  \n",
      "21       NaN      NaN      NaN      NaN       NaN  \n",
      "22       NaN      NaN      NaN      NaN       NaN  \n",
      "23       NaN      NaN      NaN      NaN       NaN  \n",
      "24       NaN      NaN      NaN      NaN       NaN  \n",
      "25       NaN      NaN      NaN      NaN       NaN  \n",
      "26       NaN      NaN      NaN      NaN       NaN  \n",
      "27       NaN      NaN      NaN      NaN       NaN  \n",
      "28       NaN      NaN      NaN      NaN       NaN  \n",
      "29       NaN      NaN      NaN      NaN       NaN  \n",
      "..       ...      ...      ...      ...       ...  \n",
      "185      NaN      NaN      NaN      NaN       NaN  \n",
      "186      NaN      NaN      NaN      NaN       NaN  \n",
      "187      NaN      NaN      NaN      NaN       NaN  \n",
      "188      NaN      NaN      NaN      NaN       NaN  \n",
      "189      NaN      NaN      NaN      NaN       NaN  \n",
      "190      NaN      NaN      NaN      NaN       NaN  \n",
      "191      NaN      NaN      NaN      NaN       NaN  \n",
      "192      NaN      NaN      NaN      NaN       NaN  \n",
      "193      NaN      NaN      NaN      NaN       NaN  \n",
      "194      NaN      NaN      NaN      NaN       NaN  \n",
      "195      NaN      NaN      NaN      NaN       NaN  \n",
      "196      NaN      NaN      NaN      NaN       NaN  \n",
      "197      NaN      NaN      NaN      NaN       NaN  \n",
      "198      NaN      NaN      NaN      NaN       NaN  \n",
      "199      NaN      NaN      NaN      NaN       NaN  \n",
      "200      NaN      NaN      NaN      NaN       NaN  \n",
      "201      NaN      NaN      NaN      NaN       NaN  \n",
      "202      NaN      NaN      NaN      NaN       NaN  \n",
      "203      NaN      NaN      NaN      NaN       NaN  \n",
      "204      NaN      NaN      NaN      NaN       NaN  \n",
      "205      NaN      NaN      NaN      NaN       NaN  \n",
      "206      NaN      NaN      NaN      NaN       NaN  \n",
      "207      NaN      NaN      NaN      NaN       NaN  \n",
      "208      NaN      NaN      NaN      NaN       NaN  \n",
      "209      NaN      NaN      NaN      NaN       NaN  \n",
      "210      NaN      NaN      NaN      NaN       NaN  \n",
      "211      NaN      NaN      NaN      NaN       NaN  \n",
      "212      NaN      NaN      NaN      NaN       NaN  \n",
      "213      NaN      NaN      NaN      NaN       NaN  \n",
      "214      NaN      NaN      NaN      NaN       NaN  \n",
      "\n",
      "[215 rows x 11 columns]\n"
     ]
    }
   ],
   "source": [
    "df = pd.read_csv('words.csv')\n",
    "print(df)"
   ]
  },
  {
   "cell_type": "code",
   "execution_count": 5,
   "metadata": {},
   "outputs": [],
   "source": [
    "vowels = 'аоэуияёеюы'\n",
    "accented_vowels = 'а́о́э́у́и́я́ёе́ю́ы́'\n",
    "vow_ak = 'ао'\n",
    "consonants = ''\n",
    "dentals = 'дтсзлнцр'\n",
    "labials = 'мпбвф'\n",
    "palatals = 'йчшщж'\n",
    "velars = 'кгх'"
   ]
  },
  {
   "cell_type": "code",
   "execution_count": 15,
   "metadata": {},
   "outputs": [],
   "source": [
    "def softness(word):\n",
    "    word = re.sub(r'\\bю','йу',word)\n",
    "    word = re.sub(r'\\bя','йа',word)\n",
    "    word = re.sub(r'\\bе','йэ',word)\n",
    "    word = re.sub(r'\\bё','йо́',word)\n",
    "    \n",
    "    word = re.sub(r'(?<=[' + vowels + accented_vowels + 'ьъ])ю','йу',word)\n",
    "    word = re.sub(r'(?<=[' + vowels + accented_vowels + 'ьъ])е','йэ',word)\n",
    "    word = re.sub(r'(?<=[' + vowels + accented_vowels + 'ьъ])я','йа',word)\n",
    "    word = re.sub(r'(?<=[' + vowels + accented_vowels + 'ьъ])ё','йо́',word)\n",
    "    word = re.sub(r'(?<=[ьъ])и','йи',word)\n",
    "\n",
    "    word = re.sub(r'(?<=[^йчщжшц])ь','\\'',word)\n",
    "    word = re.sub(r'(?<=[йчщжшц])ь','',word)\n",
    "    word = re.sub(r'ъ','',word)\n",
    "    word = re.sub(r'(?<=[^йчщ])ю','\\'у',word)\n",
    "    word = re.sub(r'(?<=[^йчщ])я','\\'а',word)\n",
    "    word = re.sub(r'(?<=[^йчщ])е','\\'э',word)\n",
    "    word = re.sub(r'(?<=[^йчщ])ё','\\'о́',word)\n",
    "    word = re.sub(r'(?<=[йчщ])ё','о́',word)\n",
    "    word = re.sub(r'(?<=[йчщ])ю','у',word)\n",
    "    word = re.sub(r'(?<=[йчщ])я','а',word)\n",
    "    word = re.sub(r'(?<=[йчщ])е','э',word)\n",
    "    word = re.sub(r'(?<=[^йчщжшц'+vowels+accented_vowels+'])и','\\'и', word)\n",
    "\n",
    "    return word"
   ]
  },
  {
   "cell_type": "code",
   "execution_count": null,
   "metadata": {},
   "outputs": [],
   "source": [
    "newColumn = []\n",
    "for index, row in df.iterrows():\n",
    "    #print(softness(row[0]))"
   ]
  },
  {
   "cell_type": "code",
   "execution_count": null,
   "metadata": {},
   "outputs": [],
   "source": [
    "newColumn = []\n",
    "for index, row in df.iterrows():\n",
    "    newColumn.append(softness(row[0]))\n",
    "df['Level 1'] = newColumn"
   ]
  },
  {
   "cell_type": "code",
   "execution_count": 45,
   "metadata": {},
   "outputs": [],
   "source": [
    "def assimilation_of_softness(word):\n",
    "    word = re.sub(r'([дтсзлнцр])(?=[дтсзлнцр]\\')',r\"\\1'\",word)\n",
    "    word = re.sub(r'([мпбвф])(?=[мпбвф]\\')',r\"\\1'\",word)\n",
    "    word = re.sub(r'([кгх])(?=[кгх]\\')',r\"\\1'\",word)\n",
    "    return word"
   ]
  },
  {
   "cell_type": "code",
   "execution_count": null,
   "metadata": {},
   "outputs": [],
   "source": [
    "newColumn = []\n",
    "for index, row in df.iterrows():\n",
    "    #print(assimilation_of_softness(row[1]))"
   ]
  },
  {
   "cell_type": "code",
   "execution_count": 33,
   "metadata": {},
   "outputs": [],
   "source": [
    "newColumn = []\n",
    "for index, row in df.iterrows():\n",
    "    newColumn.append(assimilation_of_softness(row[1]))\n",
    "df['Level 2'] = newColumn"
   ]
  },
  {
   "cell_type": "code",
   "execution_count": null,
   "metadata": {
    "scrolled": true
   },
   "outputs": [],
   "source": []
  },
  {
   "cell_type": "code",
   "execution_count": 34,
   "metadata": {},
   "outputs": [],
   "source": [
    "df.to_csv('words.csv', index=False)"
   ]
  },
  {
   "cell_type": "code",
   "execution_count": 5,
   "metadata": {},
   "outputs": [],
   "source": []
  },
  {
   "cell_type": "code",
   "execution_count": null,
   "metadata": {},
   "outputs": [],
   "source": []
  },
  {
   "cell_type": "code",
   "execution_count": null,
   "metadata": {},
   "outputs": [],
   "source": []
  }
 ],
 "metadata": {
  "kernelspec": {
   "display_name": "Python 3",
   "language": "python",
   "name": "python3"
  },
  "language_info": {
   "codemirror_mode": {
    "name": "ipython",
    "version": 3
   },
   "file_extension": ".py",
   "mimetype": "text/x-python",
   "name": "python",
   "nbconvert_exporter": "python",
   "pygments_lexer": "ipython3",
   "version": "3.7.1"
  }
 },
 "nbformat": 4,
 "nbformat_minor": 2
}
